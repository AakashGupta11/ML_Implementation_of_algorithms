{
 "cells": [
  {
   "cell_type": "code",
   "execution_count": 1,
   "metadata": {},
   "outputs": [],
   "source": [
    "import numpy as np"
   ]
  },
  {
   "cell_type": "code",
   "execution_count": 2,
   "metadata": {},
   "outputs": [],
   "source": [
    "def sig(z):\n",
    "    return 1/(1 + np.exp(-z))"
   ]
  },
  {
   "cell_type": "code",
   "execution_count": 3,
   "metadata": {},
   "outputs": [],
   "source": [
    "def derSig(z):\n",
    "    return sig(z)* (1 - sig(z))"
   ]
  },
  {
   "cell_type": "code",
   "execution_count": 4,
   "metadata": {},
   "outputs": [
    {
     "data": {
      "text/plain": [
       "2"
      ]
     },
     "execution_count": 4,
     "metadata": {},
     "output_type": "execute_result"
    }
   ],
   "source": [
    "X = np.array([[0,0], [0,1], [1,0], [1,1]])\n",
    "Y = np.array([[0, 0, 0, 1]]).T\n",
    "cols = X.shape[1]\n",
    "cols"
   ]
  },
  {
   "cell_type": "code",
   "execution_count": 5,
   "metadata": {},
   "outputs": [
    {
     "name": "stdout",
     "output_type": "stream",
     "text": [
      "Enter number of hidden layer: \n",
      "3\n"
     ]
    }
   ],
   "source": [
    "print(\"Enter number of hidden layer: \")\n",
    "n = int(input())"
   ]
  },
  {
   "cell_type": "code",
   "execution_count": 6,
   "metadata": {},
   "outputs": [],
   "source": [
    "hidden_layer_weights = []\n",
    "hidden_layer_biases = []\n",
    "for i in range(n):\n",
    "    wh = 2 * np.random.random((cols, cols)) - 1\n",
    "    bh = 2 * np.random.random((1, cols)) - 1\n",
    "    hidden_layer_weights.append(wh)\n",
    "    hidden_layer_biases.append(bh)\n",
    "    \n",
    "wout = 2 * np.random.random((cols, 1)) - 1\n",
    "bout = 2 * np.random.random((1,1)) - 1"
   ]
  },
  {
   "cell_type": "code",
   "execution_count": 7,
   "metadata": {},
   "outputs": [
    {
     "data": {
      "text/plain": [
       "array([[0.51838287],\n",
       "       [0.39739232]])"
      ]
     },
     "execution_count": 7,
     "metadata": {},
     "output_type": "execute_result"
    }
   ],
   "source": [
    "wout"
   ]
  },
  {
   "cell_type": "code",
   "execution_count": 8,
   "metadata": {},
   "outputs": [],
   "source": [
    "def forward(x, hidden_layer_weights, wout, hidden_layer_biases, bout):\n",
    "    current_output = x\n",
    "    for i in range(n):\n",
    "        current_HL_weights = hidden_layer_weights[i]\n",
    "        current_HL_input = np.dot(current_output, current_HL_weights) + hidden_layer_biases[i]\n",
    "        current_HL_output = sig(current_HL_input)\n",
    "        current_output = current_HL_output\n",
    "    \n",
    "    output_layer_input = np.dot(current_output, wout) + bout\n",
    "    final_output = sig(output_layer_input)\n",
    "    return final_output"
   ]
  },
  {
   "cell_type": "code",
   "execution_count": 9,
   "metadata": {},
   "outputs": [],
   "source": [
    "def train(x, y, hidden_layer_weights, wout, hidden_layer_biases, bout, epochs, lr):\n",
    "    for itr in range(epochs):\n",
    "        #forward propagation\n",
    "        hidden_layer_outputs = []\n",
    "        hidden_layer_inputs = []\n",
    "        current_output = x\n",
    "        for i in range(n):\n",
    "            current_HL_weights = hidden_layer_weights[i]\n",
    "            current_HL_input = np.dot(current_output, current_HL_weights) + hidden_layer_biases[i]\n",
    "            current_HL_output = sig(current_HL_input)\n",
    "            hidden_layer_inputs.append(current_HL_input)\n",
    "            hidden_layer_outputs.append(current_HL_output)\n",
    "            current_output = current_HL_output\n",
    "\n",
    "        output_layer_input = np.dot(current_output, wout) + bout\n",
    "        final_output = sig(output_layer_input)\n",
    "        \n",
    "        #back propagation\n",
    "        first_two_prod_terms = []\n",
    "        first_term_output = final_output - y\n",
    "        second_term_output = derSig(output_layer_input)\n",
    "        first_two_output = first_two_product = first_term_output * second_term_output\n",
    "        \n",
    "        weights = wout\n",
    "        for i in range(n):\n",
    "            first_term_hidden_layer = np.dot(first_two_product, weights.T)\n",
    "            second_term_hidden_layer = derSig(hidden_layer_inputs[n-i-1])\n",
    "            first_two_product = first_term_hidden_layer * second_term_hidden_layer\n",
    "            first_two_prod_terms.append(first_two_product)\n",
    "            weights = hidden_layer_weights[n-i-1]\n",
    "            \n",
    "        first_two_prod_terms.reverse()\n",
    "        changes_wt_hidden_layers = []\n",
    "        changes_biases_hidden_layers = []\n",
    "        curr_output = x\n",
    "        for i in range(n):\n",
    "            changes_wh = np.dot(curr_output.T, first_two_prod_terms[i])\n",
    "            changes_bh = np.sum(first_two_prod_terms[i], axis = 0)\n",
    "            changes_wt_hidden_layers.append(changes_wh)\n",
    "            changes_biases_hidden_layers.append(changes_bh)\n",
    "            curr_output = hidden_layer_outputs[i]\n",
    "        changes_wout = np.dot(curr_output.T, first_two_output)\n",
    "        changes_bout = np.sum(first_two_output, axis = 0)\n",
    "        \n",
    "        for i in range(n):\n",
    "            hidden_layer_weights[i] = hidden_layer_weights[i] - lr * changes_wt_hidden_layers[i]\n",
    "            hidden_layer_biases[i] = hidden_layer_biases[i] - lr * changes_biases_hidden_layers[i]\n",
    "        wout = wout - lr * changes_wout\n",
    "        bout = bout - lr * changes_bout\n",
    "        \n",
    "    return hidden_layer_weights, wout, hidden_layer_biases, bout"
   ]
  },
  {
   "cell_type": "code",
   "execution_count": 10,
   "metadata": {},
   "outputs": [],
   "source": [
    "hidden_layer_weights, wout, hidden_layer_biases, bout = train(X, Y, hidden_layer_weights, wout, hidden_layer_biases, bout, 10000, 1)"
   ]
  },
  {
   "cell_type": "code",
   "execution_count": 11,
   "metadata": {},
   "outputs": [
    {
     "data": {
      "text/plain": [
       "array([[0.00517004],\n",
       "       [0.00680352],\n",
       "       [0.00687705],\n",
       "       [0.99176491]])"
      ]
     },
     "execution_count": 11,
     "metadata": {},
     "output_type": "execute_result"
    }
   ],
   "source": [
    "forward(X, hidden_layer_weights, wout, hidden_layer_biases, bout)"
   ]
  },
  {
   "cell_type": "code",
   "execution_count": 12,
   "metadata": {},
   "outputs": [
    {
     "data": {
      "text/plain": [
       "(array([[5, 7, 9]]), (1, 3))"
      ]
     },
     "execution_count": 12,
     "metadata": {},
     "output_type": "execute_result"
    }
   ],
   "source": [
    "a = np.array([[1,2,3],[4,5,6]])\n",
    "b = np.sum(a, axis = 0, keepdims=True)\n",
    "b,b.shape"
   ]
  },
  {
   "cell_type": "code",
   "execution_count": 13,
   "metadata": {},
   "outputs": [
    {
     "data": {
      "text/plain": [
       "array([[0.55839511],\n",
       "       [0.55678626],\n",
       "       [0.5485577 ],\n",
       "       [0.54739079]])"
      ]
     },
     "execution_count": 13,
     "metadata": {},
     "output_type": "execute_result"
    }
   ],
   "source": [
    "X = np.array([[0,0], [0,1], [1,0], [1,1]])\n",
    "wh = 2 * np.random.random((2, 2)) - 1\n",
    "wout = 2 * np.random.random((2, 1)) - 1\n",
    "bh = 2 * np.random.random((1,2)) - 1\n",
    "bout = 2 * np.random.random((1,1)) - 1\n",
    "ho = sig(np.dot(X, wh)+bh)\n",
    "sig(np.dot(ho, wout) + bout)"
   ]
  }
 ],
 "metadata": {
  "anaconda-cloud": {},
  "kernelspec": {
   "display_name": "Python 3",
   "language": "python",
   "name": "python3"
  },
  "language_info": {
   "codemirror_mode": {
    "name": "ipython",
    "version": 3
   },
   "file_extension": ".py",
   "mimetype": "text/x-python",
   "name": "python",
   "nbconvert_exporter": "python",
   "pygments_lexer": "ipython3",
   "version": "3.6.5"
  }
 },
 "nbformat": 4,
 "nbformat_minor": 1
}
