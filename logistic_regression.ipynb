{
 "cells": [
  {
   "cell_type": "code",
   "execution_count": 13,
   "metadata": {},
   "outputs": [],
   "source": [
    "import numpy as np\n",
    "import pandas as pd\n",
    "from sklearn import datasets\n",
    "from sklearn.model_selection import train_test_split\n",
    "from sklearn.linear_model import LogisticRegression"
   ]
  },
  {
   "cell_type": "code",
   "execution_count": 2,
   "metadata": {},
   "outputs": [],
   "source": [
    "def pred_func(x, m):\n",
    "    mx = np.dot(x, m)\n",
    "    expn = np.exp(-mx)\n",
    "    y_pred = 1 / (1 + expn)\n",
    "    n = len(y_pred)\n",
    "    y = []\n",
    "    for i in range(n):\n",
    "        if(y_pred[i] > 0.5):\n",
    "            y.append(1)\n",
    "        else:\n",
    "            y.append(0)\n",
    "    y = np.array(y, dtype = 'int32')\n",
    "    return y"
   ]
  },
  {
   "cell_type": "code",
   "execution_count": 3,
   "metadata": {},
   "outputs": [],
   "source": [
    "def cost(x, y, m):\n",
    "    mx = np.dot(x, m)\n",
    "    expn = np.exp(-mx)\n",
    "    return ((np.log(1 + expn)) + (1 - y) * mx).sum()"
   ]
  },
  {
   "cell_type": "code",
   "execution_count": 4,
   "metadata": {},
   "outputs": [],
   "source": [
    "def calc_func(i, x, m):\n",
    "    mx = np.dot(x[i], m)\n",
    "    func = 1/(1 + np.exp(-mx))\n",
    "    return func"
   ]
  },
  {
   "cell_type": "code",
   "execution_count": 5,
   "metadata": {},
   "outputs": [],
   "source": [
    "def step_gradient(x, y, learning_rate, m):\n",
    "    k, n = x.shape\n",
    "    slope_m = np.array([0 for i in range(n)], dtype = 'float32')\n",
    "    for j in range(n):\n",
    "        for i in range(k):\n",
    "            slope_m[j] += (1/k)*(calc_func(i, x, m) - y[i])*x[i][j]\n",
    "    \n",
    "    for j in range(n):\n",
    "        m[j] = m[j] - learning_rate * slope_m[j]\n",
    "    return m"
   ]
  },
  {
   "cell_type": "code",
   "execution_count": 6,
   "metadata": {},
   "outputs": [],
   "source": [
    "def gradient_descent(x, y, learning_rate = 0.1, num_itr = 100):\n",
    "    k, n = x.shape\n",
    "    print(k, n)\n",
    "    m = np.array([0 for i in range(n)], dtype = 'float32')\n",
    "    print(m)\n",
    "    \n",
    "    for i in range(num_itr):\n",
    "        m = step_gradient(x, y, learning_rate, m)\n",
    "        c = cost(x, y, m)\n",
    "        print(i, \" : \", c)\n",
    "    return m"
   ]
  },
  {
   "cell_type": "code",
   "execution_count": 7,
   "metadata": {},
   "outputs": [],
   "source": [
    "def run(x_train, y_train, x_test):\n",
    "    k, n = dX.shape\n",
    "    x = np.insert(x_train, n, 1, axis = 1)\n",
    "    learning_rate = 0.003\n",
    "    num_itr = 25000\n",
    "    m2 = gradient_descent(x, y_train, learning_rate, num_itr)\n",
    "    xt = np.insert(x_test, n, 1, axis = 1)\n",
    "    yp = pred_func(xt, m2)\n",
    "    np.savetxt(\"C:\\\\Users\\\\AAKASH\\\\Desktop\\\\Temporary\\\\CN ML attachments\\\\uploadTitanic2.csv\", yp, fmt = '%1.0f')\n",
    "    print(yp)\n",
    "    return yp"
   ]
  },
  {
   "cell_type": "code",
   "execution_count": 22,
   "metadata": {},
   "outputs": [],
   "source": [
    "clf = LogisticRegression()"
   ]
  },
  {
   "cell_type": "code",
   "execution_count": 23,
   "metadata": {},
   "outputs": [
    {
     "data": {
      "text/plain": [
       "LogisticRegression(C=1.0, class_weight=None, dual=False, fit_intercept=True,\n",
       "          intercept_scaling=1, max_iter=100, multi_class='ovr', n_jobs=1,\n",
       "          penalty='l2', random_state=None, solver='liblinear', tol=0.0001,\n",
       "          verbose=0, warm_start=False)"
      ]
     },
     "execution_count": 23,
     "metadata": {},
     "output_type": "execute_result"
    }
   ],
   "source": [
    "clf.fit(dX, dY)"
   ]
  },
  {
   "cell_type": "code",
   "execution_count": null,
   "metadata": {},
   "outputs": [],
   "source": [
    "yp = clf.predict(x_test)\n",
    "np.savetxt(\"C:\\\\Users\\\\AAKASH\\\\Desktop\\\\Temporary\\\\CN ML attachments\\\\uploadTitanic2.csv\", yp, fmt = '%1.0f')"
   ]
  },
  {
   "cell_type": "code",
   "execution_count": 21,
   "metadata": {},
   "outputs": [],
   "source": [
    "dX = df.values\n",
    "x_test = df_test.values"
   ]
  },
  {
   "cell_type": "code",
   "execution_count": 9,
   "metadata": {},
   "outputs": [],
   "source": [
    "def deleteCols(dF):\n",
    "    del dF[\"Name\"]\n",
    "    del dF[\"Ticket\"]\n",
    "    del dF[\"Cabin\"]\n",
    "    return dF"
   ]
  },
  {
   "cell_type": "code",
   "execution_count": 10,
   "metadata": {},
   "outputs": [],
   "source": [
    "def genderNum(dF):\n",
    "    def getNumber(str):\n",
    "        if(str == \"male\"):\n",
    "            return 0\n",
    "        else:\n",
    "            return 1\n",
    "    dF[\"gender\"] = dF[\"Sex\"].apply(getNumber)\n",
    "    del dF[\"Sex\"]\n",
    "    return dF"
   ]
  },
  {
   "cell_type": "code",
   "execution_count": 11,
   "metadata": {},
   "outputs": [],
   "source": [
    "def embarkedNum(dF):\n",
    "    def getEmbarked(str):\n",
    "        if(str == \"Q\"):\n",
    "            return 1\n",
    "        elif(str == \"C\"):\n",
    "            return 2\n",
    "        else:\n",
    "            return 3\n",
    "    dF[\"emabarkedNo\"] = dF[\"Embarked\"].apply(getEmbarked)\n",
    "    del dF[\"Embarked\"]\n",
    "    return dF"
   ]
  },
  {
   "cell_type": "code",
   "execution_count": 12,
   "metadata": {},
   "outputs": [],
   "source": [
    "def fillAge(dF):\n",
    "    meanS = dF[dF.Survived == 1].Age.mean()\n",
    "    dF[\"age\"] = np.where(pd.isnull(dF.Age) & dF.Survived == 1, meanS, dF[\"Age\"])\n",
    "    meanD = dF[dF.Survived == 0].Age.mean()\n",
    "    dF.age.fillna(meanD, inplace = True)\n",
    "    del dF[\"Age\"]\n",
    "    del dF[\"Survived\"]\n",
    "    return dF"
   ]
  },
  {
   "cell_type": "code",
   "execution_count": 19,
   "metadata": {},
   "outputs": [],
   "source": [
    "df = deleteCols(df)\n",
    "df = genderNum(df)\n",
    "df = embarkedNum(df)\n",
    "df = fillAge(df)"
   ]
  },
  {
   "cell_type": "code",
   "execution_count": 20,
   "metadata": {},
   "outputs": [],
   "source": [
    "df_test = deleteCols(df_test)\n",
    "df_test = genderNum(df_test)\n",
    "df_test.Embarked.fillna('S', inplace = True)\n",
    "df_test = embarkedNum(df_test)\n",
    "meanA = df_test.Age.mean()\n",
    "df_test.Age.fillna(meanA, inplace = True)\n",
    "df_test[\"age\"] = np.where(pd.isnull(df_test.Age), meanA, df_test[\"Age\"])\n",
    "del df_test[\"Age\"]"
   ]
  },
  {
   "cell_type": "code",
   "execution_count": 18,
   "metadata": {},
   "outputs": [],
   "source": [
    "df = pd.read_csv(\"C:\\\\Users\\\\AAKASH\\\\Desktop\\\\Temporary\\\\CN ML attachments\\\\0000000000002429_training_titanic_x_y_train.csv\")\n",
    "df_test = pd.read_csv(\"C:\\\\Users\\\\AAKASH\\\\Desktop\\\\Temporary\\\\CN ML attachments\\\\0000000000002429_test_titanic_x_test.csv\")\n",
    "dY = np.genfromtxt(\"C:\\\\Users\\\\AAKASH\\\\Desktop\\\\Temporary\\\\CN ML attachments\\\\0000000000002429_training_titanic_x_y_train.csv\", delimiter = \",\", skip_header = 1, usecols = [11])"
   ]
  }
 ],
 "metadata": {
  "kernelspec": {
   "display_name": "Python 3",
   "language": "python",
   "name": "python3"
  },
  "language_info": {
   "codemirror_mode": {
    "name": "ipython",
    "version": 3
   },
   "file_extension": ".py",
   "mimetype": "text/x-python",
   "name": "python",
   "nbconvert_exporter": "python",
   "pygments_lexer": "ipython3",
   "version": "3.6.5"
  }
 },
 "nbformat": 4,
 "nbformat_minor": 2
}
